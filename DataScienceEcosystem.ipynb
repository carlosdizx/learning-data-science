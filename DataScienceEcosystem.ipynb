{
 "cells": [
  {
   "cell_type": "markdown",
   "id": "8446df30-7d61-44ee-88c2-080ff8afacad",
   "metadata": {},
   "source": [
    "# Data Science Tools and Ecosystem"
   ]
  },
  {
   "cell_type": "markdown",
   "id": "097d6663-0175-4518-9577-0af1dc99f36f",
   "metadata": {},
   "source": [
    "In this notebook, Data Science Tools and Ecosystem are summarized."
   ]
  },
  {
   "cell_type": "markdown",
   "id": "92cea052-2747-4038-8a75-5ed9cdc804e2",
   "metadata": {},
   "source": [
    "Some of the popular languages that Data Scientists use are:\n",
    "1. Python\n",
    "2. R\n",
    "3. Java"
   ]
  },
  {
   "cell_type": "markdown",
   "id": "6ab64b6b-2c73-40b6-84a6-9b4515261cba",
   "metadata": {},
   "source": [
    "Some of the commonly used libraries used by Data Scientists include:\n",
    "1. Pandas\n",
    "2. Seaborn\n",
    "3. Mathplotlib"
   ]
  },
  {
   "cell_type": "markdown",
   "id": "8f1baa73-7127-413e-9608-215dcbdf2917",
   "metadata": {},
   "source": [
    "| Data Science Tools |\n",
    "| ------------------ |\n",
    "| Jupyter Notebook    |\n",
    "| RStudio             |\n",
    "| Apache Zeppelin     |\n"
   ]
  },
  {
   "cell_type": "markdown",
   "id": "5fe0d550-ec17-478a-82bb-cba708ff5428",
   "metadata": {},
   "source": [
    "**Objectives:**\n",
    "\n",
    "- List popular languages for Data Science.\n",
    "- Describe some commonly used libraries in Data Science.\n",
    "- List popular development tools used in Data Science.\n",
    "- Demonstrate basic arithmetic expressions in Python.\n",
    "- Convert units, such as minutes to hours, using Python."
   ]
  },
  {
   "cell_type": "markdown",
   "id": "e10afcbc-a020-4567-a263-710a504fe635",
   "metadata": {
    "tags": []
   },
   "source": [
    "## Autor\n",
    "**Carlos Ernesto Díaz Basante**"
   ]
  },
  {
   "cell_type": "markdown",
   "id": "fd88e859-4f31-4ca9-ba3d-f6cf3ec22e40",
   "metadata": {},
   "source": [
    "Below are a few examples of evaluating arithmetic expressions in Python\n",
    "\n",
    "```python\n",
    "res = (3 * 4) + 5\n",
    "print(res)\n",
    "```"
   ]
  },
  {
   "cell_type": "code",
   "execution_count": null,
   "id": "0d468943-1f5b-4048-85ac-246f5821f276",
   "metadata": {
    "tags": []
   },
   "outputs": [],
   "source": [
    "res = (3*4)+5\n",
    "print(res)"
   ]
  },
  {
   "cell_type": "code",
   "execution_count": null,
   "id": "5a94fb82-24ca-47e3-8237-f55cbc7a91d1",
   "metadata": {
    "tags": []
   },
   "outputs": [],
   "source": [
    "# Convert minutes to hours\n",
    "minutes = 200\n",
    "hours = minutes / 60\n",
    "print(f\"{minutes} min = {hours} h\")"
   ]
  },
  {
   "cell_type": "code",
   "execution_count": null,
   "id": "2743213c-98e6-487b-b7d2-2c29a3175f99",
   "metadata": {},
   "outputs": [],
   "source": []
  }
 ],
 "metadata": {
  "kernelspec": {
   "display_name": "Python",
   "language": "python",
   "name": "conda-env-python-py"
  },
  "language_info": {
   "codemirror_mode": {
    "name": "ipython",
    "version": 3
   },
   "file_extension": ".py",
   "mimetype": "text/x-python",
   "name": "python",
   "nbconvert_exporter": "python",
   "pygments_lexer": "ipython3",
   "version": "3.7.12"
  }
 },
 "nbformat": 4,
 "nbformat_minor": 5
}
